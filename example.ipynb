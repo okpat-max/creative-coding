# %% [markdown]
# # Welcome to py5 on Binder!
# Try editing the sketch below.

# %%
import py5

def setup():
    py5.size(400, 400)
    py5.background(240)

def draw():
    py5.fill(255, 0, 0)
    py5.circle(py5.mouse_x, py5.mouse_y, 30)

py5.run_sketch()
